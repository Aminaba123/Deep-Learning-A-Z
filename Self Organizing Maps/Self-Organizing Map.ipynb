{
 "cells": [
  {
   "cell_type": "markdown",
   "metadata": {},
   "source": [
    "# Importing the Libraries"
   ]
  },
  {
   "cell_type": "code",
   "execution_count": 1,
   "metadata": {
    "collapsed": true
   },
   "outputs": [],
   "source": [
    "import numpy as np"
   ]
  },
  {
   "cell_type": "code",
   "execution_count": 2,
   "metadata": {
    "collapsed": true
   },
   "outputs": [],
   "source": [
    "import pandas as pd"
   ]
  },
  {
   "cell_type": "code",
   "execution_count": 3,
   "metadata": {
    "collapsed": true
   },
   "outputs": [],
   "source": [
    "import matplotlib.pyplot as plt\n",
    "%matplotlib inline"
   ]
  },
  {
   "cell_type": "markdown",
   "metadata": {},
   "source": [
    "# Importing the Dataset"
   ]
  },
  {
   "cell_type": "code",
   "execution_count": 4,
   "metadata": {
    "collapsed": true
   },
   "outputs": [],
   "source": [
    "dataset = pd.read_csv('Credit_Card_Applications.csv')"
   ]
  },
  {
   "cell_type": "code",
   "execution_count": 5,
   "metadata": {
    "collapsed": true
   },
   "outputs": [],
   "source": [
    "X = dataset.iloc[:, :-1].values\n",
    "y = dataset.iloc[:, -1].values"
   ]
  },
  {
   "cell_type": "markdown",
   "metadata": {},
   "source": [
    "# Feature Scaling"
   ]
  },
  {
   "cell_type": "code",
   "execution_count": 6,
   "metadata": {
    "collapsed": true
   },
   "outputs": [],
   "source": [
    "from sklearn.preprocessing import MinMaxScaler"
   ]
  },
  {
   "cell_type": "code",
   "execution_count": 7,
   "metadata": {},
   "outputs": [
    {
     "data": {
      "text/plain": [
       "MinMaxScaler(copy=True, feature_range=(0, 1))"
      ]
     },
     "execution_count": 7,
     "metadata": {},
     "output_type": "execute_result"
    }
   ],
   "source": [
    "sc = MinMaxScaler(feature_range = (0, 1))\n",
    "sc"
   ]
  },
  {
   "cell_type": "code",
   "execution_count": 8,
   "metadata": {},
   "outputs": [
    {
     "data": {
      "text/plain": [
       "array([[  8.42681467e-01,   1.00000000e+00,   1.25263158e-01, ...,\n",
       "          5.00000000e-01,   5.00000000e-02,   1.21200000e-02],\n",
       "       [  6.96090562e-01,   0.00000000e+00,   1.34135338e-01, ...,\n",
       "          5.00000000e-01,   8.00000000e-02,   0.00000000e+00],\n",
       "       [  3.88981656e-01,   0.00000000e+00,   2.38045113e-01, ...,\n",
       "          5.00000000e-01,   1.40000000e-01,   0.00000000e+00],\n",
       "       ..., \n",
       "       [  4.39420332e-01,   0.00000000e+00,   7.63909774e-02, ...,\n",
       "          5.00000000e-01,   5.00000000e-02,   0.00000000e+00],\n",
       "       [  8.44034934e-01,   0.00000000e+00,   2.05563910e-01, ...,\n",
       "          5.00000000e-01,   6.00000000e-02,   1.10000000e-04],\n",
       "       [  1.06907888e-01,   1.00000000e+00,   4.09774436e-01, ...,\n",
       "          0.00000000e+00,   2.80000000e-01,   0.00000000e+00]])"
      ]
     },
     "execution_count": 8,
     "metadata": {},
     "output_type": "execute_result"
    }
   ],
   "source": [
    "X = sc.fit_transform(X)\n",
    "X"
   ]
  },
  {
   "cell_type": "markdown",
   "metadata": {},
   "source": [
    "# Training the SOM"
   ]
  },
  {
   "cell_type": "code",
   "execution_count": 9,
   "metadata": {
    "collapsed": true
   },
   "outputs": [],
   "source": [
    "from minisom import MiniSom"
   ]
  },
  {
   "cell_type": "code",
   "execution_count": 10,
   "metadata": {},
   "outputs": [
    {
     "data": {
      "text/plain": [
       "<minisom.MiniSom at 0x7f1ae358ecc0>"
      ]
     },
     "execution_count": 10,
     "metadata": {},
     "output_type": "execute_result"
    }
   ],
   "source": [
    "som = MiniSom(x = 10, y = 10, input_len = 15, sigma = 1.0, learning_rate = 0.5)\n",
    "som"
   ]
  },
  {
   "cell_type": "code",
   "execution_count": 13,
   "metadata": {
    "collapsed": true
   },
   "outputs": [],
   "source": [
    "som.random_weights_init(X)"
   ]
  },
  {
   "cell_type": "code",
   "execution_count": 14,
   "metadata": {
    "collapsed": true
   },
   "outputs": [],
   "source": [
    "som.train_random(data = X, num_iteration = 100)"
   ]
  },
  {
   "cell_type": "markdown",
   "metadata": {},
   "source": [
    "# Visualizing the Results"
   ]
  },
  {
   "cell_type": "code",
   "execution_count": 15,
   "metadata": {
    "collapsed": true
   },
   "outputs": [],
   "source": [
    "from pylab import bone, pcolor, colorbar, plot, show"
   ]
  },
  {
   "cell_type": "code",
   "execution_count": 16,
   "metadata": {},
   "outputs": [
    {
     "data": {
      "image/png": "[encoded data removed]",
      "text/plain": [
       "<matplotlib.figure.Figure at 0x7f1ae30d6f98>"
      ]
     },
     "metadata": {},
     "output_type": "display_data"
    }
   ],
   "source": [
    "bone()\n",
    "pcolor(som.distance_map().T)\n",
    "colorbar()\n",
    "markers = ['o', 's']\n",
    "colors = ['r', 'g']\n",
    "for i, x in enumerate(X):\n",
    "    w = som.winner(x)\n",
    "    plot(w[0] + 0.5,\n",
    "         w[1] + 0.5,\n",
    "         markers[y[i]],\n",
    "         markeredgecolor = colors[y[i]],\n",
    "         markerfacecolor = 'None',\n",
    "         markersize = 10,\n",
    "         markeredgewidth = 2)\n",
    "show()\n"
   ]
  },
  {
   "cell_type": "markdown",
   "metadata": {},
   "source": [
    "# Finding the Frauds"
   ]
  },
  {
   "cell_type": "code",
   "execution_count": 18,
   "metadata": {},
   "outputs": [
    {
     "data": {
      "text/plain": [
       "array([[  1.57779940e+07,   1.00000000e+00,   4.20000000e+01,\n",
       "          9.79000000e+00,   2.00000000e+00,   1.40000000e+01,\n",
       "          8.00000000e+00,   7.96000000e+00,   1.00000000e+00,\n",
       "          1.00000000e+00,   8.00000000e+00,   0.00000000e+00,\n",
       "          2.00000000e+00,   0.00000000e+00,   1.00000000e+00],\n",
       "       [  1.57997850e+07,   1.00000000e+00,   5.64200000e+01,\n",
       "          2.80000000e+01,   1.00000000e+00,   8.00000000e+00,\n",
       "          4.00000000e+00,   2.85000000e+01,   1.00000000e+00,\n",
       "          1.00000000e+00,   4.00000000e+01,   0.00000000e+00,\n",
       "          2.00000000e+00,   0.00000000e+00,   1.60000000e+01],\n",
       "       [  1.58107230e+07,   1.00000000e+00,   3.81700000e+01,\n",
       "          1.01250000e+01,   2.00000000e+00,   1.40000000e+01,\n",
       "          4.00000000e+00,   2.50000000e+00,   1.00000000e+00,\n",
       "          1.00000000e+00,   6.00000000e+00,   0.00000000e+00,\n",
       "          2.00000000e+00,   5.20000000e+02,   1.97000000e+02],\n",
       "       [  1.57666630e+07,   1.00000000e+00,   5.39200000e+01,\n",
       "          9.62500000e+00,   2.00000000e+00,   1.00000000e+01,\n",
       "          4.00000000e+00,   8.66500000e+00,   1.00000000e+00,\n",
       "          1.00000000e+00,   5.00000000e+00,   0.00000000e+00,\n",
       "          2.00000000e+00,   0.00000000e+00,   1.00000000e+00],\n",
       "       [  1.58000490e+07,   1.00000000e+00,   2.30800000e+01,\n",
       "          1.15000000e+01,   2.00000000e+00,   3.00000000e+00,\n",
       "          4.00000000e+00,   3.50000000e+00,   1.00000000e+00,\n",
       "          1.00000000e+00,   9.00000000e+00,   0.00000000e+00,\n",
       "          2.00000000e+00,   5.60000000e+01,   7.43000000e+02],\n",
       "       [  1.57853670e+07,   1.00000000e+00,   5.13300000e+01,\n",
       "          1.00000000e+01,   2.00000000e+00,   3.00000000e+00,\n",
       "          5.00000000e+00,   0.00000000e+00,   1.00000000e+00,\n",
       "          1.00000000e+00,   1.10000000e+01,   0.00000000e+00,\n",
       "          2.00000000e+00,   0.00000000e+00,   1.25000000e+03],\n",
       "       [  1.57967870e+07,   1.00000000e+00,   3.95000000e+01,\n",
       "          4.25000000e+00,   2.00000000e+00,   8.00000000e+00,\n",
       "          5.00000000e+00,   6.50000000e+00,   1.00000000e+00,\n",
       "          1.00000000e+00,   1.60000000e+01,   0.00000000e+00,\n",
       "          2.00000000e+00,   1.17000000e+02,   1.21100000e+03],\n",
       "       [  1.57684490e+07,   1.00000000e+00,   4.19200000e+01,\n",
       "          4.20000000e-01,   2.00000000e+00,   8.00000000e+00,\n",
       "          8.00000000e+00,   2.10000000e-01,   1.00000000e+00,\n",
       "          1.00000000e+00,   6.00000000e+00,   0.00000000e+00,\n",
       "          2.00000000e+00,   2.20000000e+02,   9.49000000e+02],\n",
       "       [  1.56907720e+07,   1.00000000e+00,   2.77500000e+01,\n",
       "          1.29000000e+00,   2.00000000e+00,   4.00000000e+00,\n",
       "          8.00000000e+00,   2.50000000e-01,   0.00000000e+00,\n",
       "          0.00000000e+00,   0.00000000e+00,   1.00000000e+00,\n",
       "          1.00000000e+00,   1.40000000e+02,   1.00000000e+00],\n",
       "       [  1.57838590e+07,   1.00000000e+00,   3.35800000e+01,\n",
       "          2.50000000e-01,   2.00000000e+00,   3.00000000e+00,\n",
       "          5.00000000e+00,   4.00000000e+00,   0.00000000e+00,\n",
       "          0.00000000e+00,   0.00000000e+00,   1.00000000e+00,\n",
       "          1.00000000e+00,   4.20000000e+02,   1.00000000e+00],\n",
       "       [  1.56486810e+07,   1.00000000e+00,   2.30000000e+01,\n",
       "          7.50000000e-01,   2.00000000e+00,   7.00000000e+00,\n",
       "          4.00000000e+00,   5.00000000e-01,   0.00000000e+00,\n",
       "          0.00000000e+00,   0.00000000e+00,   1.00000000e+00,\n",
       "          1.00000000e+00,   3.20000000e+02,   1.00000000e+00],\n",
       "       [  1.56660120e+07,   1.00000000e+00,   3.07500000e+01,\n",
       "          1.58500000e+00,   2.00000000e+00,   2.00000000e+00,\n",
       "          4.00000000e+00,   5.85000000e-01,   0.00000000e+00,\n",
       "          0.00000000e+00,   0.00000000e+00,   1.00000000e+00,\n",
       "          1.00000000e+00,   0.00000000e+00,   1.00000000e+00],\n",
       "       [  1.57404110e+07,   1.00000000e+00,   4.05800000e+01,\n",
       "          3.29000000e+00,   2.00000000e+00,   7.00000000e+00,\n",
       "          4.00000000e+00,   3.50000000e+00,   0.00000000e+00,\n",
       "          0.00000000e+00,   0.00000000e+00,   1.00000000e+00,\n",
       "          1.00000000e+00,   4.00000000e+02,   1.00000000e+00],\n",
       "       [  1.57101380e+07,   1.00000000e+00,   3.91700000e+01,\n",
       "          2.50000000e+00,   1.00000000e+00,   3.00000000e+00,\n",
       "          8.00000000e+00,   1.00000000e+01,   0.00000000e+00,\n",
       "          0.00000000e+00,   0.00000000e+00,   1.00000000e+00,\n",
       "          1.00000000e+00,   2.00000000e+02,   1.00000000e+00],\n",
       "       [  1.56136730e+07,   1.00000000e+00,   3.03300000e+01,\n",
       "          5.00000000e-01,   2.00000000e+00,   2.00000000e+00,\n",
       "          8.00000000e+00,   8.50000000e-02,   0.00000000e+00,\n",
       "          0.00000000e+00,   0.00000000e+00,   1.00000000e+00,\n",
       "          1.00000000e+00,   2.52000000e+02,   1.00000000e+00]])"
      ]
     },
     "execution_count": 18,
     "metadata": {},
     "output_type": "execute_result"
    }
   ],
   "source": [
    "mappings = som.win_map(X)\n",
    "frauds = np.concatenate((mappings[(8,1)], mappings[(6,8)]), axis = 0)\n",
    "frauds = sc.inverse_transform(frauds)\n",
    "frauds"
   ]
  },
  {
   "cell_type": "code",
   "execution_count": null,
   "metadata": {
    "collapsed": true
   },
   "outputs": [],
   "source": []
  },
  {
   "cell_type": "code",
   "execution_count": null,
   "metadata": {
    "collapsed": true
   },
   "outputs": [],
   "source": []
  },
  {
   "cell_type": "code",
   "execution_count": null,
   "metadata": {
    "collapsed": true
   },
   "outputs": [],
   "source": []
  }
 ],
 "metadata": {
  "kernelspec": {
   "display_name": "Python 3",
   "language": "python",
   "name": "python3"
  },
  "language_info": {
   "codemirror_mode": {
    "name": "ipython",
    "version": 3
   },
   "file_extension": ".py",
   "mimetype": "text/x-python",
   "name": "python",
   "nbconvert_exporter": "python",
   "pygments_lexer": "ipython3",
   "version": "3.6.0"
  }
 },
 "nbformat": 4,
 "nbformat_minor": 2
}
