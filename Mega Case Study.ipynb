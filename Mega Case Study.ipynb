{
 "cells": [
  {
   "cell_type": "markdown",
   "metadata": {},
   "source": [
    "# Part 1  - Identify the Frauds with the Self-Organizing Map"
   ]
  },
  {
   "cell_type": "markdown",
   "metadata": {},
   "source": [
    "# Importing the Packages"
   ]
  },
  {
   "cell_type": "code",
   "execution_count": 1,
   "metadata": {
    "collapsed": true
   },
   "outputs": [],
   "source": [
    "import numpy as np"
   ]
  },
  {
   "cell_type": "code",
   "execution_count": 2,
   "metadata": {
    "collapsed": true
   },
   "outputs": [],
   "source": [
    "import pandas as pd"
   ]
  },
  {
   "cell_type": "code",
   "execution_count": 3,
   "metadata": {
    "collapsed": true
   },
   "outputs": [],
   "source": [
    "import matplotlib.pyplot as plt\n",
    "% matplotlib inline"
   ]
  },
  {
   "cell_type": "markdown",
   "metadata": {},
   "source": [
    "# Importing the Dataset"
   ]
  },
  {
   "cell_type": "code",
   "execution_count": 4,
   "metadata": {
    "collapsed": true
   },
   "outputs": [],
   "source": [
    "dataset = pd.read_csv('Credit_Card_Applications.csv')"
   ]
  },
  {
   "cell_type": "code",
   "execution_count": 5,
   "metadata": {
    "collapsed": true
   },
   "outputs": [],
   "source": [
    "X = dataset.iloc[:, :-1].values\n",
    "y = dataset.iloc[:, -1].values"
   ]
  },
  {
   "cell_type": "markdown",
   "metadata": {},
   "source": [
    "# Feature Scaling"
   ]
  },
  {
   "cell_type": "code",
   "execution_count": 6,
   "metadata": {
    "collapsed": true
   },
   "outputs": [],
   "source": [
    "from sklearn.preprocessing import MinMaxScaler"
   ]
  },
  {
   "cell_type": "code",
   "execution_count": 7,
   "metadata": {},
   "outputs": [
    {
     "data": {
      "text/plain": [
       "MinMaxScaler(copy=True, feature_range=(0, 1))"
      ]
     },
     "execution_count": 7,
     "metadata": {},
     "output_type": "execute_result"
    }
   ],
   "source": [
    "sc = MinMaxScaler(feature_range = (0, 1))\n",
    "sc"
   ]
  },
  {
   "cell_type": "code",
   "execution_count": 8,
   "metadata": {},
   "outputs": [
    {
     "data": {
      "text/plain": [
       "array([[  8.42681467e-01,   1.00000000e+00,   1.25263158e-01, ...,\n",
       "          5.00000000e-01,   5.00000000e-02,   1.21200000e-02],\n",
       "       [  6.96090562e-01,   0.00000000e+00,   1.34135338e-01, ...,\n",
       "          5.00000000e-01,   8.00000000e-02,   0.00000000e+00],\n",
       "       [  3.88981656e-01,   0.00000000e+00,   2.38045113e-01, ...,\n",
       "          5.00000000e-01,   1.40000000e-01,   0.00000000e+00],\n",
       "       ..., \n",
       "       [  4.39420332e-01,   0.00000000e+00,   7.63909774e-02, ...,\n",
       "          5.00000000e-01,   5.00000000e-02,   0.00000000e+00],\n",
       "       [  8.44034934e-01,   0.00000000e+00,   2.05563910e-01, ...,\n",
       "          5.00000000e-01,   6.00000000e-02,   1.10000000e-04],\n",
       "       [  1.06907888e-01,   1.00000000e+00,   4.09774436e-01, ...,\n",
       "          0.00000000e+00,   2.80000000e-01,   0.00000000e+00]])"
      ]
     },
     "execution_count": 8,
     "metadata": {},
     "output_type": "execute_result"
    }
   ],
   "source": [
    "X = sc.fit_transform(X)\n",
    "X"
   ]
  },
  {
   "cell_type": "markdown",
   "metadata": {},
   "source": [
    "# Training the SOM"
   ]
  },
  {
   "cell_type": "code",
   "execution_count": 9,
   "metadata": {
    "collapsed": true
   },
   "outputs": [],
   "source": [
    "from minisom import MiniSom"
   ]
  },
  {
   "cell_type": "code",
   "execution_count": 14,
   "metadata": {
    "collapsed": true
   },
   "outputs": [],
   "source": [
    "som = MiniSom(x = 10, y = 10, input_len = 15, sigma = 1.0, learning_rate = 0.5)\n",
    "som.random_weights_init(X)\n",
    "som.train_random(data = X, num_iteration = 100)"
   ]
  },
  {
   "cell_type": "markdown",
   "metadata": {},
   "source": [
    "# Visualizing the Results"
   ]
  },
  {
   "cell_type": "code",
   "execution_count": 15,
   "metadata": {
    "collapsed": true
   },
   "outputs": [],
   "source": [
    "from pylab import bone, pcolor, colorbar, plot, show"
   ]
  },
  {
   "cell_type": "code",
   "execution_count": 16,
   "metadata": {},
   "outputs": [
    {
     "data": {
      "image/png": "[encoded data removed]",
      "text/plain": [
       "<matplotlib.figure.Figure at 0x7f9f1c35f080>"
      ]
     },
     "metadata": {},
     "output_type": "display_data"
    }
   ],
   "source": [
    "bone()\n",
    "pcolor(som.distance_map().T)\n",
    "colorbar()\n",
    "markers = ['o', 's']\n",
    "colors = ['r', 'g']\n",
    "for i, x in enumerate(X):\n",
    "    w = som.winner(x)\n",
    "    plot(w[0] + 0.5,\n",
    "         w[1] + 0.5,\n",
    "         markers[y[i]],\n",
    "         markeredgecolor = colors[y[i]],\n",
    "         markerfacecolor = 'None',\n",
    "         markersize = 10,\n",
    "         markeredgewidth = 2)\n",
    "show()"
   ]
  },
  {
   "cell_type": "markdown",
   "metadata": {},
   "source": [
    "# Finding the Frauds"
   ]
  },
  {
   "cell_type": "code",
   "execution_count": 18,
   "metadata": {},
   "outputs": [
    {
     "data": {
      "text/plain": [
       "array([[  1.56946660e+07,   0.00000000e+00,   2.65000000e+01,\n",
       "          2.71000000e+00,   1.00000000e+00,   8.00000000e+00,\n",
       "          4.00000000e+00,   8.50000000e-02,   0.00000000e+00,\n",
       "          0.00000000e+00,   0.00000000e+00,   0.00000000e+00,\n",
       "          1.00000000e+00,   8.00000000e+01,   1.00000000e+00],\n",
       "       [  1.57311660e+07,   1.00000000e+00,   4.09200000e+01,\n",
       "          8.35000000e-01,   2.00000000e+00,   1.00000000e+00,\n",
       "          1.00000000e+00,   0.00000000e+00,   1.00000000e+00,\n",
       "          0.00000000e+00,   0.00000000e+00,   0.00000000e+00,\n",
       "          2.00000000e+00,   1.30000000e+02,   2.00000000e+00],\n",
       "       [  1.56493790e+07,   1.00000000e+00,   4.27500000e+01,\n",
       "          3.00000000e+00,   2.00000000e+00,   3.00000000e+00,\n",
       "          5.00000000e+00,   1.00000000e+00,   1.00000000e+00,\n",
       "          0.00000000e+00,   0.00000000e+00,   0.00000000e+00,\n",
       "          2.00000000e+00,   0.00000000e+00,   2.01000000e+02],\n",
       "       [  1.55872970e+07,   1.00000000e+00,   1.84200000e+01,\n",
       "          1.04150000e+01,   1.00000000e+00,   6.00000000e+00,\n",
       "          4.00000000e+00,   1.25000000e-01,   1.00000000e+00,\n",
       "          0.00000000e+00,   0.00000000e+00,   0.00000000e+00,\n",
       "          2.00000000e+00,   1.20000000e+02,   3.76000000e+02],\n",
       "       [  1.56825400e+07,   1.00000000e+00,   6.25000000e+01,\n",
       "          1.27500000e+01,   1.00000000e+00,   8.00000000e+00,\n",
       "          8.00000000e+00,   5.00000000e+00,   1.00000000e+00,\n",
       "          0.00000000e+00,   0.00000000e+00,   0.00000000e+00,\n",
       "          2.00000000e+00,   1.12000000e+02,   1.00000000e+00],\n",
       "       [  1.58007730e+07,   1.00000000e+00,   5.44200000e+01,\n",
       "          5.00000000e-01,   1.00000000e+00,   4.00000000e+00,\n",
       "          8.00000000e+00,   3.96000000e+00,   1.00000000e+00,\n",
       "          0.00000000e+00,   0.00000000e+00,   0.00000000e+00,\n",
       "          2.00000000e+00,   1.80000000e+02,   3.15000000e+02],\n",
       "       [  1.56148130e+07,   1.00000000e+00,   2.02500000e+01,\n",
       "          9.96000000e+00,   2.00000000e+00,   1.00000000e+01,\n",
       "          2.00000000e+00,   0.00000000e+00,   1.00000000e+00,\n",
       "          0.00000000e+00,   0.00000000e+00,   0.00000000e+00,\n",
       "          2.00000000e+00,   0.00000000e+00,   1.00000000e+00],\n",
       "       [  1.55941330e+07,   1.00000000e+00,   4.83300000e+01,\n",
       "          1.20000000e+01,   2.00000000e+00,   7.00000000e+00,\n",
       "          4.00000000e+00,   1.60000000e+01,   1.00000000e+00,\n",
       "          0.00000000e+00,   0.00000000e+00,   0.00000000e+00,\n",
       "          1.00000000e+00,   1.10000000e+02,   1.00000000e+00],\n",
       "       [  1.55710810e+07,   1.00000000e+00,   2.26700000e+01,\n",
       "          1.05000000e+01,   2.00000000e+00,   1.10000000e+01,\n",
       "          8.00000000e+00,   1.33500000e+00,   1.00000000e+00,\n",
       "          0.00000000e+00,   0.00000000e+00,   0.00000000e+00,\n",
       "          2.00000000e+00,   1.00000000e+02,   1.00000000e+00],\n",
       "       [  1.56255010e+07,   1.00000000e+00,   3.14200000e+01,\n",
       "          1.55000000e+01,   2.00000000e+00,   8.00000000e+00,\n",
       "          4.00000000e+00,   5.00000000e-01,   1.00000000e+00,\n",
       "          0.00000000e+00,   0.00000000e+00,   0.00000000e+00,\n",
       "          2.00000000e+00,   1.20000000e+02,   1.00000000e+00],\n",
       "       [  1.56365620e+07,   1.00000000e+00,   4.20000000e+01,\n",
       "          2.05000000e-01,   2.00000000e+00,   3.00000000e+00,\n",
       "          8.00000000e+00,   5.12500000e+00,   1.00000000e+00,\n",
       "          0.00000000e+00,   0.00000000e+00,   0.00000000e+00,\n",
       "          2.00000000e+00,   4.00000000e+02,   1.00000000e+00],\n",
       "       [  1.57112490e+07,   1.00000000e+00,   3.15700000e+01,\n",
       "          5.00000000e+00,   1.00000000e+00,   6.00000000e+00,\n",
       "          4.00000000e+00,   8.50000000e+00,   1.00000000e+00,\n",
       "          0.00000000e+00,   0.00000000e+00,   0.00000000e+00,\n",
       "          2.00000000e+00,   0.00000000e+00,   1.00000000e+00],\n",
       "       [  1.55895410e+07,   1.00000000e+00,   2.57500000e+01,\n",
       "          7.50000000e-01,   2.00000000e+00,   8.00000000e+00,\n",
       "          5.00000000e+00,   2.50000000e-01,   1.00000000e+00,\n",
       "          0.00000000e+00,   0.00000000e+00,   0.00000000e+00,\n",
       "          2.00000000e+00,   3.49000000e+02,   2.40000000e+01],\n",
       "       [  1.56585040e+07,   1.00000000e+00,   4.42500000e+01,\n",
       "          1.10000000e+01,   1.00000000e+00,   2.00000000e+00,\n",
       "          4.00000000e+00,   1.50000000e+00,   1.00000000e+00,\n",
       "          0.00000000e+00,   0.00000000e+00,   0.00000000e+00,\n",
       "          1.00000000e+00,   0.00000000e+00,   1.00000000e+00],\n",
       "       [  1.57000460e+07,   1.00000000e+00,   2.30000000e+01,\n",
       "          6.25000000e-01,   1.00000000e+00,   6.00000000e+00,\n",
       "          4.00000000e+00,   1.25000000e-01,   1.00000000e+00,\n",
       "          0.00000000e+00,   0.00000000e+00,   0.00000000e+00,\n",
       "          2.00000000e+00,   1.80000000e+02,   2.00000000e+00],\n",
       "       [  1.55695950e+07,   1.00000000e+00,   2.05000000e+01,\n",
       "          1.00000000e+01,   1.00000000e+00,   8.00000000e+00,\n",
       "          4.00000000e+00,   2.50000000e+00,   1.00000000e+00,\n",
       "          0.00000000e+00,   0.00000000e+00,   0.00000000e+00,\n",
       "          1.00000000e+00,   4.00000000e+01,   1.00000000e+00],\n",
       "       [  1.55985740e+07,   1.00000000e+00,   1.91700000e+01,\n",
       "          9.50000000e+00,   2.00000000e+00,   9.00000000e+00,\n",
       "          4.00000000e+00,   1.50000000e+00,   1.00000000e+00,\n",
       "          0.00000000e+00,   0.00000000e+00,   0.00000000e+00,\n",
       "          2.00000000e+00,   1.20000000e+02,   2.20700000e+03],\n",
       "       [  1.55874430e+07,   1.00000000e+00,   2.56700000e+01,\n",
       "          2.21000000e+00,   1.00000000e+00,   6.00000000e+00,\n",
       "          4.00000000e+00,   4.00000000e+00,   1.00000000e+00,\n",
       "          0.00000000e+00,   0.00000000e+00,   0.00000000e+00,\n",
       "          2.00000000e+00,   1.88000000e+02,   1.00000000e+00],\n",
       "       [  1.57117590e+07,   1.00000000e+00,   2.26700000e+01,\n",
       "          2.54000000e+00,   1.00000000e+00,   8.00000000e+00,\n",
       "          8.00000000e+00,   2.58500000e+00,   1.00000000e+00,\n",
       "          0.00000000e+00,   0.00000000e+00,   0.00000000e+00,\n",
       "          2.00000000e+00,   0.00000000e+00,   1.00000000e+00],\n",
       "       [  1.56651810e+07,   1.00000000e+00,   3.52500000e+01,\n",
       "          1.65000000e+01,   1.00000000e+00,   8.00000000e+00,\n",
       "          4.00000000e+00,   4.00000000e+00,   1.00000000e+00,\n",
       "          0.00000000e+00,   0.00000000e+00,   0.00000000e+00,\n",
       "          2.00000000e+00,   8.00000000e+01,   1.00000000e+00]])"
      ]
     },
     "execution_count": 18,
     "metadata": {},
     "output_type": "execute_result"
    }
   ],
   "source": [
    "mappings = som.win_map(X)\n",
    "frauds = np.concatenate((mappings[(5,3)], mappings[(8,3)]), axis = 0)\n",
    "frauds = sc.inverse_transform(frauds)\n",
    "frauds"
   ]
  },
  {
   "cell_type": "markdown",
   "metadata": {},
   "source": [
    "# Part 2 - Going from Unsupervised to Supervised Deep Learning"
   ]
  },
  {
   "cell_type": "markdown",
   "metadata": {},
   "source": [
    "# Creating the Matrix of Features"
   ]
  },
  {
   "cell_type": "code",
   "execution_count": 19,
   "metadata": {
    "collapsed": true
   },
   "outputs": [],
   "source": [
    "customers = dataset.iloc[:, :-1].values"
   ]
  },
  {
   "cell_type": "markdown",
   "metadata": {},
   "source": [
    "# Creating the Dependent Variable"
   ]
  },
  {
   "cell_type": "code",
   "execution_count": 20,
   "metadata": {
    "collapsed": true
   },
   "outputs": [],
   "source": [
    "is_fraud = np.zeros(len(dataset))\n",
    "for i in range(len(dataset)):\n",
    "    if dataset.iloc[i,0] in frauds:\n",
    "        is_fraud[i] = 1"
   ]
  },
  {
   "cell_type": "markdown",
   "metadata": {},
   "source": [
    "# Feature Scaling"
   ]
  },
  {
   "cell_type": "code",
   "execution_count": 21,
   "metadata": {
    "collapsed": true
   },
   "outputs": [],
   "source": [
    "from sklearn.preprocessing import StandardScaler"
   ]
  },
  {
   "cell_type": "code",
   "execution_count": 22,
   "metadata": {},
   "outputs": [
    {
     "data": {
      "text/plain": [
       "StandardScaler(copy=True, with_mean=True, with_std=True)"
      ]
     },
     "execution_count": 22,
     "metadata": {},
     "output_type": "execute_result"
    }
   ],
   "source": [
    "sc = StandardScaler()\n",
    "sc"
   ]
  },
  {
   "cell_type": "code",
   "execution_count": 23,
   "metadata": {},
   "outputs": [
    {
     "data": {
      "text/plain": [
       "array([[ 1.19915887,  0.68873723, -0.80105183, ...,  0.23782765,\n",
       "        -0.48835847,  0.03738039],\n",
       "       [ 0.68683384, -1.45193254, -0.75124044, ...,  0.23782765,\n",
       "        -0.13959116, -0.19541334],\n",
       "       [-0.38649046, -1.45193254, -0.16785619, ...,  0.23782765,\n",
       "         0.55794344, -0.19541334],\n",
       "       ..., \n",
       "       [-0.21021079, -1.45193254, -1.07543661, ...,  0.23782765,\n",
       "        -0.48835847, -0.19541334],\n",
       "       [ 1.20388914, -1.45193254, -0.35021653, ...,  0.23782765,\n",
       "        -0.3721027 , -0.19330052],\n",
       "       [-1.37231869,  0.68873723,  0.79628971, ..., -3.11117398,\n",
       "         2.18552419, -0.19541334]])"
      ]
     },
     "execution_count": 23,
     "metadata": {},
     "output_type": "execute_result"
    }
   ],
   "source": [
    "customers = sc.fit_transform(customers)\n",
    "customers"
   ]
  },
  {
   "cell_type": "markdown",
   "metadata": {},
   "source": [
    "# Part 3 - Making the ANN"
   ]
  },
  {
   "cell_type": "markdown",
   "metadata": {},
   "source": [
    "# Importing the Keras Libraries and Packages"
   ]
  },
  {
   "cell_type": "code",
   "execution_count": 24,
   "metadata": {},
   "outputs": [
    {
     "name": "stderr",
     "output_type": "stream",
     "text": [
      "Using TensorFlow backend.\n"
     ]
    }
   ],
   "source": [
    "from keras.models import Sequential\n",
    "from keras.layers import Dense"
   ]
  },
  {
   "cell_type": "markdown",
   "metadata": {},
   "source": [
    "# Initialising the ANN"
   ]
  },
  {
   "cell_type": "code",
   "execution_count": 25,
   "metadata": {
    "collapsed": true
   },
   "outputs": [],
   "source": [
    "classifier = Sequential()"
   ]
  },
  {
   "cell_type": "markdown",
   "metadata": {},
   "source": [
    "# Adding the Input Layer and the First Hidden Layer"
   ]
  },
  {
   "cell_type": "code",
   "execution_count": 26,
   "metadata": {
    "collapsed": true
   },
   "outputs": [],
   "source": [
    "classifier.add(Dense(units = 2, kernel_initializer = 'uniform', activation = 'relu', input_dim = 15))"
   ]
  },
  {
   "cell_type": "markdown",
   "metadata": {},
   "source": [
    "# Adding the Output Layer"
   ]
  },
  {
   "cell_type": "code",
   "execution_count": 27,
   "metadata": {
    "collapsed": true
   },
   "outputs": [],
   "source": [
    "classifier.add(Dense(units = 1, kernel_initializer = 'uniform', activation = 'sigmoid'))"
   ]
  },
  {
   "cell_type": "markdown",
   "metadata": {},
   "source": [
    "# Compiling the ANN"
   ]
  },
  {
   "cell_type": "code",
   "execution_count": 28,
   "metadata": {
    "collapsed": true
   },
   "outputs": [],
   "source": [
    "classifier.compile(optimizer = 'adam', loss = 'binary_crossentropy', metrics = ['accuracy'])"
   ]
  },
  {
   "cell_type": "markdown",
   "metadata": {},
   "source": [
    "# Fitting the ANN to the Training Set"
   ]
  },
  {
   "cell_type": "code",
   "execution_count": 29,
   "metadata": {},
   "outputs": [
    {
     "name": "stdout",
     "output_type": "stream",
     "text": [
      "Epoch 1/2\n",
      "690/690 [==============================] - 1s - loss: 0.4742 - acc: 0.9696     \n",
      "Epoch 2/2\n",
      "690/690 [==============================] - 0s - loss: 0.1637 - acc: 0.9710     \n"
     ]
    },
    {
     "data": {
      "text/plain": [
       "<keras.callbacks.History at 0x7f9f1cd8ac88>"
      ]
     },
     "execution_count": 29,
     "metadata": {},
     "output_type": "execute_result"
    }
   ],
   "source": [
    "classifier.fit(customers, is_fraud, batch_size = 1, epochs = 2)"
   ]
  },
  {
   "cell_type": "markdown",
   "metadata": {},
   "source": [
    "# Predicting the Probabilities of Frauds"
   ]
  },
  {
   "cell_type": "code",
   "execution_count": 30,
   "metadata": {},
   "outputs": [
    {
     "data": {
      "text/plain": [
       "array([[  1.56214230e+07,   5.23998495e-03],\n",
       "       [  1.56058720e+07,   8.35768692e-03],\n",
       "       [  1.57635790e+07,   1.06420182e-02],\n",
       "       ..., \n",
       "       [  1.56585040e+07,   2.33916953e-01],\n",
       "       [  1.57723290e+07,   2.59066105e-01],\n",
       "       [  1.55988020e+07,   3.34660381e-01]])"
      ]
     },
     "execution_count": 30,
     "metadata": {},
     "output_type": "execute_result"
    }
   ],
   "source": [
    "y_pred = classifier.predict(customers)\n",
    "y_pred = np.concatenate((dataset.iloc[:, 0:1].values, y_pred), axis = 1)\n",
    "y_pred = y_pred[y_pred[:, 1].argsort()]\n",
    "y_pred"
   ]
  },
  {
   "cell_type": "code",
   "execution_count": null,
   "metadata": {
    "collapsed": true
   },
   "outputs": [],
   "source": []
  }
 ],
 "metadata": {
  "kernelspec": {
   "display_name": "Python 3",
   "language": "python",
   "name": "python3"
  },
  "language_info": {
   "codemirror_mode": {
    "name": "ipython",
    "version": 3
   },
   "file_extension": ".py",
   "mimetype": "text/x-python",
   "name": "python",
   "nbconvert_exporter": "python",
   "pygments_lexer": "ipython3",
   "version": "3.6.0"
  }
 },
 "nbformat": 4,
 "nbformat_minor": 2
}
